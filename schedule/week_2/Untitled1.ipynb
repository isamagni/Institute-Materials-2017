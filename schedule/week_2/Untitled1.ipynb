{
 "cells": [
  {
   "cell_type": "code",
   "execution_count": 5,
   "metadata": {},
   "outputs": [
    {
     "name": "stdout",
     "output_type": "stream",
     "text": [
      "[[('The', 'DT')], [('tradition', 'NN')], [('of', 'IN')], [('textual', 'JJ')], [('transmission', 'NN')], [('and', 'CC')], [('critical', 'JJ')], [('judgment', 'NN')], [('give', 'VB')], [('a', 'DT')], [('crucial', 'JJ')], [('importance', 'NN')], [('and', 'CC')], [('an', 'DT')], [('authoritative', 'JJ')], [('role', 'NN')], [('to', 'TO')], [('the', 'DT')], [('editio', 'NN')], [('princeps', 'NNS')], [('of', 'IN')], [('a', 'DT')], [('work', 'NN')], [(':', ':')], [('we', 'PRP')], [('often', 'RB')], [('venerate', 'NN')], [('the', 'DT')], [('first', 'RB')], [('print', 'NN')], [('copy', 'NN')], [('of', 'IN')], [('a', 'DT')], [('text', 'NN')], [('as', 'IN')], [('an', 'DT')], [('iconic', 'NN')], [('object', 'NN')], [('.', '.')]]\n"
     ]
    }
   ],
   "source": [
    "import nltk\n",
    "\n",
    "def tokenize(input): # use NLTK word tokenization to break up the input\n",
    "    return nltk.word_tokenize(input)\n",
    "\n",
    "def normalize(input): # normalize as POS\n",
    "    pos = nltk.pos_tag([input]) # since it’s a single word, make it a list\n",
    "    # print(pos)\n",
    "    return (pos)\n",
    "\n",
    "sample = \"The tradition of textual transmission and critical judgment give a crucial importance and an authoritative role to the editio princeps of a work: we often venerate the first print copy of a text as an iconic object.\"\n",
    "tokens = tokenize(sample)\n",
    "# print(tokens)\n",
    "normalized = [normalize(token) for token in tokens]\n",
    "print(normalized)\n",
    "\n",
    "\n",
    "# commenting out the last two lines (and un-commenting the print(tokens)) and running the tokenization only. Output: ['Hello', ',', 'Mom', '!']\n",
    "\n",
    "# comment out print(pos) and print(tokens). Output: [[('Hello', 'NN')], [(',', ',')], [('Mom', 'NN')], [('!', '.')]]\n",
    "\n",
    "\n"
   ]
  },
  {
   "cell_type": "code",
   "execution_count": 8,
   "metadata": {},
   "outputs": [
    {
     "name": "stdout",
     "output_type": "stream",
     "text": [
      "[('The', 'Th'), ('tradition', 'trdtn'), ('of', 'f'), ('textual', 'txtl'), ('transmission', 'trnsmssn'), ('and', 'nd'), ('critical', 'crtcl'), ('judgment', 'jdgmnt'), ('give', 'gv'), ('a', ''), ('crucial', 'crcl'), ('importance', 'mprtnc'), ('and', 'nd'), ('an', 'n'), ('authoritative', 'thrttv'), ('role', 'rl'), ('to', 't'), ('the', 'th'), ('editio', 'dt'), ('princeps', 'prncps'), ('of', 'f'), ('a', ''), ('work', 'wrk'), (':', ':'), ('we', 'w'), ('often', 'ftn'), ('venerate', 'vnrt'), ('the', 'th'), ('first', 'frst'), ('print', 'prnt'), ('copy', 'cpy'), ('of', 'f'), ('a', ''), ('text', 'txt'), ('as', 's'), ('an', 'n'), ('iconic', 'cnc'), ('object', 'bjct'), ('.', '.')]\n"
     ]
    }
   ],
   "source": [
    "import re\n",
    "\n",
    "def tokenize(input): # use NLTK word tokenization\n",
    "    return nltk.word_tokenize(input)\n",
    "\n",
    "def normalize(input): # normalize as POS\n",
    "    return (input, re.sub('[AEIOUaeiou]','',input))\n",
    "\n",
    "# used a regular expression to strip out vowels\n",
    "\n",
    "sample = \"The tradition of textual transmission and critical judgment give a crucial importance and an authoritative role to the editio princeps of a work: we often venerate the first print copy of a text as an iconic object.\"\n",
    "tokens = tokenize(sample)\n",
    "# print(tokens)\n",
    "normalized = [normalize(token) for token in tokens]\n",
    "print(normalized)"
   ]
  },
  {
   "cell_type": "code",
   "execution_count": null,
   "metadata": {
    "collapsed": true
   },
   "outputs": [],
   "source": []
  }
 ],
 "metadata": {
  "kernelspec": {
   "display_name": "Python 3",
   "language": "python",
   "name": "python3"
  },
  "language_info": {
   "codemirror_mode": {
    "name": "ipython",
    "version": 3
   },
   "file_extension": ".py",
   "mimetype": "text/x-python",
   "name": "python",
   "nbconvert_exporter": "python",
   "pygments_lexer": "ipython3",
   "version": "3.6.1"
  }
 },
 "nbformat": 4,
 "nbformat_minor": 2
}
